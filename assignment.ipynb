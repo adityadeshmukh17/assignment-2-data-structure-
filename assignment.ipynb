{
 "cells": [
  {
   "cell_type": "markdown",
   "id": "aea90317-8077-4420-a211-259045bfec64",
   "metadata": {},
   "source": [
    "Q1. How do you comment code in Python? What are the different types of comments?"
   ]
  },
  {
   "cell_type": "markdown",
   "id": "587c9a1e-a1fc-453e-9c16-b4da7926ee7d",
   "metadata": {},
   "source": [
    "Ans:In python comment is done using # as for single line comment and ''' for multiline comment.using ''' this we can declare a string whose content is in more than one line. "
   ]
  },
  {
   "cell_type": "code",
   "execution_count": 8,
   "id": "844dd95d-ace2-42a6-ad1f-3d725323d483",
   "metadata": {},
   "outputs": [
    {
     "data": {
      "text/plain": [
       "'hello pw skills thanks for teaching in simple\\nway'"
      ]
     },
     "execution_count": 8,
     "metadata": {},
     "output_type": "execute_result"
    }
   ],
   "source": [
    "# hello pw skills\n",
    "a='''hello pw skills thanks for teaching in simple\n",
    "way'''\n",
    "a\n",
    "\n"
   ]
  },
  {
   "cell_type": "markdown",
   "id": "66993954-059f-439e-8da2-77b8d71f3a1c",
   "metadata": {},
   "source": [
    "Q2. What are variables in Python? How do you declare and assign values to variables?"
   ]
  },
  {
   "cell_type": "code",
   "execution_count": null,
   "id": "a6f37a36-b3db-4690-b0f8-362902267301",
   "metadata": {},
   "outputs": [],
   "source": [
    "ans:variables are nothing but memory where data is stored for processing it may be ram or secondary.\n",
    "string variables are  declared using double or single quotes at the start and end of the data.boolean variables are declared by writing True with t capital and same for False."
   ]
  },
  {
   "cell_type": "code",
   "execution_count": 10,
   "id": "946bcac2-b357-4587-961d-51691551d70b",
   "metadata": {},
   "outputs": [
    {
     "name": "stdout",
     "output_type": "stream",
     "text": [
      "<class 'int'>\n",
      "<class 'str'>\n",
      "<class 'float'>\n",
      "<class 'bool'>\n"
     ]
    }
   ],
   "source": [
    "a=747\n",
    "b=\"pwskills\"\n",
    "c=54.90\n",
    "d=True\n",
    "print(type(a))\n",
    "print(type(b))\n",
    "print(type(c))\n",
    "print(type(d))\n"
   ]
  },
  {
   "cell_type": "markdown",
   "id": "e9c063e1-efb2-4be4-96b2-d98b9c5469de",
   "metadata": {},
   "source": [
    "Q3. How do you convert one data type to another in Python?"
   ]
  },
  {
   "cell_type": "code",
   "execution_count": null,
   "id": "2fd3ba1f-3442-4cc7-8931-e5937ea207de",
   "metadata": {},
   "outputs": [],
   "source": [
    "ans:using typecasting we can convert one data type into another.if we try to convert a string with numeric data into int by typecasting then its okay \n",
    "but not a string with textual be typecasted into int that is not possible.let me explain with code."
   ]
  },
  {
   "cell_type": "code",
   "execution_count": 22,
   "id": "37e42782-e8ab-4cab-9590-2e74ab401e15",
   "metadata": {},
   "outputs": [
    {
     "data": {
      "text/plain": [
       "str"
      ]
     },
     "execution_count": 22,
     "metadata": {},
     "output_type": "execute_result"
    }
   ],
   "source": [
    "a=\"23\"\n",
    "type(a)"
   ]
  },
  {
   "cell_type": "code",
   "execution_count": 19,
   "id": "aaffc9d7-1525-436e-a6b3-e22c9b122199",
   "metadata": {},
   "outputs": [
    {
     "data": {
      "text/plain": [
       "int"
      ]
     },
     "execution_count": 19,
     "metadata": {},
     "output_type": "execute_result"
    }
   ],
   "source": [
    "a=int(a)\n",
    "type(a)"
   ]
  },
  {
   "cell_type": "code",
   "execution_count": 20,
   "id": "1f6a1dc8-c4ad-4844-ab33-3316da627490",
   "metadata": {},
   "outputs": [
    {
     "data": {
      "text/plain": [
       "str"
      ]
     },
     "execution_count": 20,
     "metadata": {},
     "output_type": "execute_result"
    }
   ],
   "source": [
    "b=\"adi\"\n",
    "type(b)"
   ]
  },
  {
   "cell_type": "code",
   "execution_count": 23,
   "id": "dbd93f4e-a41b-4f3b-8aaf-d908d05a42ee",
   "metadata": {},
   "outputs": [
    {
     "ename": "ValueError",
     "evalue": "invalid literal for int() with base 10: 'adi'",
     "output_type": "error",
     "traceback": [
      "\u001b[0;31m---------------------------------------------------------------------------\u001b[0m",
      "\u001b[0;31mValueError\u001b[0m                                Traceback (most recent call last)",
      "Cell \u001b[0;32mIn[23], line 1\u001b[0m\n\u001b[0;32m----> 1\u001b[0m b\u001b[38;5;241m=\u001b[39m\u001b[38;5;28;43mint\u001b[39;49m\u001b[43m(\u001b[49m\u001b[43mb\u001b[49m\u001b[43m)\u001b[49m\n\u001b[1;32m      2\u001b[0m \u001b[38;5;28mtype\u001b[39m(b)\n",
      "\u001b[0;31mValueError\u001b[0m: invalid literal for int() with base 10: 'adi'"
     ]
    }
   ],
   "source": [
    "b=int(b)\n",
    "type(b)"
   ]
  },
  {
   "cell_type": "markdown",
   "id": "242f208d-a41f-494e-b8da-0abe5bd477e4",
   "metadata": {},
   "source": [
    "Q4. How do you write and execute a Python script from the command line?"
   ]
  },
  {
   "cell_type": "markdown",
   "id": "9a4b2fd5-ddd7-45b9-ac46-937f42e2a941",
   "metadata": {},
   "source": [
    "ans:first of all write the code in your code in text editor.save file as .py extension.then open command prompt using cd command type the path of saved\n",
    "file and then hit enter .then next write python and type saved file name with extension .py after which hitting enter ur code will get run on command \n",
    "prompt.ex:->"
   ]
  },
  {
   "cell_type": "code",
   "execution_count": null,
   "id": "79091524-b7a9-4eca-8297-db7e490e2a6c",
   "metadata": {},
   "outputs": [],
   "source": [
    "print(\"adi\")  #in idle "
   ]
  },
  {
   "cell_type": "markdown",
   "id": "dc7c5f0f-85b7-4de0-b9b2-7dbcd8c7be43",
   "metadata": {},
   "source": [
    "output:Microsoft Windows [Version 10.0.22621.1992]\n",
    "(c) Microsoft Corporation. All rights reserved.\n",
    "\n",
    "C:\\Users\\Aditya Deshmukh>cd C:\\Users\\Aditya Deshmukh\\Downloads\\\n",
    "\n",
    "C:\\Users\\Aditya Deshmukh\\Downloads>python pw.py\n",
    "adi\n",
    "\n",
    "C:\\Users\\Aditya Deshmukh\\Downloads>\n"
   ]
  },
  {
   "cell_type": "markdown",
   "id": "922e9063-79f9-43b0-a545-dcbb3ec42c16",
   "metadata": {},
   "source": [
    "Q5. Given a list my_list = [1, 2, 3, 4, 5], write the code to slice the list and obtain the sub-list [2, 3]."
   ]
  },
  {
   "cell_type": "code",
   "execution_count": 3,
   "id": "95206e12-59b9-45ed-bbd9-a88a48021bd2",
   "metadata": {},
   "outputs": [
    {
     "data": {
      "text/plain": [
       "[2, 3]"
      ]
     },
     "execution_count": 3,
     "metadata": {},
     "output_type": "execute_result"
    }
   ],
   "source": [
    "my_list=[1,2,3,4,5]\n",
    "my_list[1:3]\n",
    "\n"
   ]
  },
  {
   "cell_type": "markdown",
   "id": "d805d97f-1b2f-4aa9-b6a9-50177684d4a0",
   "metadata": {},
   "source": [
    "Q6. What is a complex number in mathematics, and how is it represented in Python?"
   ]
  },
  {
   "cell_type": "code",
   "execution_count": null,
   "id": "3051044c-a1cf-4ad9-9fb8-fee926e50c2c",
   "metadata": {},
   "outputs": [],
   "source": [
    "ans:in maths complex number is a number which has two parts one real and other imaginary.reprsented in a+ib form where in maths a is real part and i is\n",
    "called as iota i.e root of -1.\n",
    "in python we used j instead of i."
   ]
  },
  {
   "cell_type": "code",
   "execution_count": 4,
   "id": "15f26860-22d9-4918-a9ac-9eecdf819444",
   "metadata": {},
   "outputs": [
    {
     "data": {
      "text/plain": [
       "complex"
      ]
     },
     "execution_count": 4,
     "metadata": {},
     "output_type": "execute_result"
    }
   ],
   "source": [
    "c=2+3j\n",
    "type(c)"
   ]
  },
  {
   "cell_type": "markdown",
   "id": "451f5f13-3043-4521-9ef4-ff9aeacdfed4",
   "metadata": {},
   "source": [
    "Q7. What is the correct way to declare a variable named age and assign the value 25 to it?"
   ]
  },
  {
   "cell_type": "code",
   "execution_count": 11,
   "id": "d59a9437-d485-45d1-8c17-015fa369d687",
   "metadata": {},
   "outputs": [
    {
     "data": {
      "text/plain": [
       "int"
      ]
     },
     "execution_count": 11,
     "metadata": {},
     "output_type": "execute_result"
    }
   ],
   "source": [
    "age=25\n",
    "type(age)"
   ]
  },
  {
   "cell_type": "markdown",
   "id": "c29c2123-96ad-4586-a246-7f0d96c252e2",
   "metadata": {},
   "source": [
    "Q8. Declare a variable named price and assign the value 9.99 to it. What data type does this variable\n",
    "belong to?"
   ]
  },
  {
   "cell_type": "code",
   "execution_count": 5,
   "id": "5065b282-ee5b-45aa-a572-667fb69df4cd",
   "metadata": {},
   "outputs": [
    {
     "data": {
      "text/plain": [
       "float"
      ]
     },
     "execution_count": 5,
     "metadata": {},
     "output_type": "execute_result"
    }
   ],
   "source": [
    "price=9.99\n",
    "type(price)"
   ]
  },
  {
   "cell_type": "markdown",
   "id": "0bf772ad-68c1-4cf9-ad6b-b38f533e5884",
   "metadata": {},
   "source": [
    "Q9. Create a variable named name and assign your full name to it as a string. How would you print the\n",
    "value of this variable?"
   ]
  },
  {
   "cell_type": "code",
   "execution_count": 6,
   "id": "8feb8722-a47b-4ab3-888e-91b8dce7b7a1",
   "metadata": {},
   "outputs": [
    {
     "name": "stdout",
     "output_type": "stream",
     "text": [
      "Aditya Dhanaji Deshmukh\n"
     ]
    }
   ],
   "source": [
    "name=\"Aditya Dhanaji Deshmukh\"\n",
    "print(name)"
   ]
  },
  {
   "cell_type": "markdown",
   "id": "330ea250-573c-4ff8-a222-cec8324b582e",
   "metadata": {},
   "source": [
    "Q10. Given the string \"Hello, World!\", extract the substring \"World\"."
   ]
  },
  {
   "cell_type": "code",
   "execution_count": 8,
   "id": "898fe968-a786-45d9-9d8d-73a1684b528d",
   "metadata": {},
   "outputs": [
    {
     "data": {
      "text/plain": [
       "'World'"
      ]
     },
     "execution_count": 8,
     "metadata": {},
     "output_type": "execute_result"
    }
   ],
   "source": [
    "a=\"Hello, World!\"\n",
    "a[7:12:]"
   ]
  },
  {
   "cell_type": "markdown",
   "id": "0ddcf921-db67-41c5-a419-564af2ecb215",
   "metadata": {},
   "source": [
    "Q11. Create a variable named \"is_student\" and assign it a boolean value indicating whether you are\n",
    "currently a student or not."
   ]
  },
  {
   "cell_type": "code",
   "execution_count": 10,
   "id": "8d828e95-e8dd-4c27-bdc9-79b0b44642c4",
   "metadata": {},
   "outputs": [
    {
     "name": "stdin",
     "output_type": "stream",
     "text": [
      "enter whether u are a student or not say only yes or no no\n"
     ]
    },
    {
     "name": "stdout",
     "output_type": "stream",
     "text": [
      "u are not a student\n"
     ]
    }
   ],
   "source": [
    "is_student=input(\"enter whether u are a student or not say only yes or no\")\n",
    "if is_student=='yes':\n",
    "    print(\"u re a student\")\n",
    "else:\n",
    "    print(\"u are not a student\")"
   ]
  },
  {
   "cell_type": "code",
   "execution_count": null,
   "id": "a9f02be3-9487-442c-aba3-22ccb4b9a10d",
   "metadata": {},
   "outputs": [],
   "source": []
  },
  {
   "cell_type": "code",
   "execution_count": null,
   "id": "5649a2f2-4904-448c-9b9a-4d45281adf3a",
   "metadata": {},
   "outputs": [],
   "source": []
  },
  {
   "cell_type": "code",
   "execution_count": null,
   "id": "4fc227be-aaf5-46cc-b9c0-f2b7ec908a58",
   "metadata": {},
   "outputs": [],
   "source": []
  },
  {
   "cell_type": "code",
   "execution_count": null,
   "id": "b733a4f8-e32b-406c-9343-a13b87c6a5d3",
   "metadata": {},
   "outputs": [],
   "source": []
  }
 ],
 "metadata": {
  "kernelspec": {
   "display_name": "Python 3 (ipykernel)",
   "language": "python",
   "name": "python3"
  },
  "language_info": {
   "codemirror_mode": {
    "name": "ipython",
    "version": 3
   },
   "file_extension": ".py",
   "mimetype": "text/x-python",
   "name": "python",
   "nbconvert_exporter": "python",
   "pygments_lexer": "ipython3",
   "version": "3.10.8"
  }
 },
 "nbformat": 4,
 "nbformat_minor": 5
}
